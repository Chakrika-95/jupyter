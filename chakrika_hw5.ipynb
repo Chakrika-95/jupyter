{
 "cells": [
  {
   "cell_type": "code",
   "execution_count": 164,
   "metadata": {},
   "outputs": [
    {
     "name": "stdout",
     "output_type": "stream",
     "text": [
      "              precision    recall  f1-score   support\n",
      "\n",
      "           1       0.39      0.38      0.39       107\n",
      "           2       0.57      0.58      0.57       149\n",
      "\n",
      "    accuracy                           0.50       256\n",
      "   macro avg       0.48      0.48      0.48       256\n",
      "weighted avg       0.49      0.50      0.50       256\n",
      "\n",
      "              precision    recall  f1-score   support\n",
      "\n",
      "           1       0.39      0.38      0.39       107\n",
      "           2       0.57      0.58      0.57       149\n",
      "\n",
      "    accuracy                           0.50       256\n",
      "   macro avg       0.48      0.48      0.48       256\n",
      "weighted avg       0.49      0.50      0.50       256\n",
      "\n"
     ]
    }
   ],
   "source": [
    "from scipy.io import loadmat\n",
    "import pandas as pd\n",
    "import numpy as np\n",
    "import sklearn.metrics as metrics\n",
    "data=loadmat(r\"/Users/chakrikaaishwarya/Downloads/hw5_data_code/deap_features.mat\")\n",
    "con_list = []\n",
    "ron_list=[]\n",
    "features=[]\n",
    "arousal = []\n",
    "valence = []\n",
    "for i in range(len(data['features'])):\n",
    "    for j in range(len(data['features'][0])):\n",
    "        ron_list.append(data['features'][i][j][2])\n",
    "for i in ron_list:\n",
    "    features.append(i[0][0])\n",
    "\n",
    "for i in range(len(data['features'])):\n",
    "    for j in range(len(data['features'][0])):\n",
    "        con_list.append(data['features'][i][j][10])\n",
    "\n",
    "for each in con_list:\n",
    "    arousal.append(each[0][0][0][0][0])\n",
    "    valence.append(each[0][0][1][0][0])\n",
    "\n",
    "arousal_values=[]\n",
    "valence_values=[]\n",
    "for i in arousal:\n",
    "    if i > 5:\n",
    "        arousal_values.append(2)\n",
    "    else:\n",
    "        arousal_values.append(1)\n",
    "\n",
    "for i in valence:\n",
    "    if i > 5:\n",
    "        valence_values.append(2)\n",
    "    else:\n",
    "        valence_values.append(1)\n",
    "def classifer(feat,val):\n",
    "    newData = list(zip(feat,val))\n",
    "    columns = ['features', 'labels']\n",
    "    df = pd.DataFrame(newData, columns=columns)\n",
    "    df.head()\n",
    "    x=df.features\n",
    "    y=df.labels\n",
    "    from sklearn.model_selection import train_test_split\n",
    "    X_train, X_test, y_train, y_test = train_test_split(x, y, test_size = 0.2, random_state = 42)\n",
    "    X_train = X_train.values.reshape(-1, 1)\n",
    "    X_test = X_test.values.reshape(-1, 1)\n",
    "\n",
    "    from sklearn.ensemble import RandomForestClassifier\n",
    "\n",
    "    reg_rf = RandomForestClassifier()\n",
    "    reg_rf.fit(X_train, y_train)\n",
    "    y_pred = reg_rf.predict(X_test)\n",
    "\n",
    "classifer(features,arousal_values)\n",
    "print(metrics.classification_report(y_test, y_pred))\n",
    "classifer(features,valence_values)\n",
    "print(metrics.classification_report(y_test, y_pred))\n",
    "\n"
   ]
  },
  {
   "cell_type": "code",
   "execution_count": null,
   "metadata": {},
   "outputs": [],
   "source": []
  },
  {
   "cell_type": "code",
   "execution_count": null,
   "metadata": {},
   "outputs": [],
   "source": []
  }
 ],
 "metadata": {
  "kernelspec": {
   "display_name": "Python 3",
   "language": "python",
   "name": "python3"
  },
  "language_info": {
   "codemirror_mode": {
    "name": "ipython",
    "version": 3
   },
   "file_extension": ".py",
   "mimetype": "text/x-python",
   "name": "python",
   "nbconvert_exporter": "python",
   "pygments_lexer": "ipython3",
   "version": "3.8.3"
  }
 },
 "nbformat": 4,
 "nbformat_minor": 4
}
